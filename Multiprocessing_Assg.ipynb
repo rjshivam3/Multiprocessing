{
 "cells": [
  {
   "cell_type": "code",
   "execution_count": 1,
   "id": "41e5a856-cd88-4739-96bb-90183a48592e",
   "metadata": {},
   "outputs": [
    {
     "data": {
      "text/plain": [
       "\"Multiprocessing in Python allows running multiple processes simultaneously, utilizing multiple CPU cores. It's useful for parallelizing CPU-bound tasks, improving performance by leveraging available hardware resources efficiently, and providing isolation to prevent concurrency issues.\""
      ]
     },
     "execution_count": 1,
     "metadata": {},
     "output_type": "execute_result"
    }
   ],
   "source": [
    "#Q1. What is multiprocessing in python? Why is it useful?\n",
    "\n",
    "\"\"\"Multiprocessing in Python allows running multiple processes simultaneously, utilizing multiple CPU cores. It's useful for parallelizing CPU-bound tasks, improving performance by leveraging available hardware resources efficiently, and providing isolation to prevent concurrency issues.\"\"\""
   ]
  },
  {
   "cell_type": "code",
   "execution_count": 2,
   "id": "9981101a-8b9a-48b3-aec0-c751daa310f9",
   "metadata": {},
   "outputs": [
    {
     "data": {
      "text/plain": [
       "'Multiprocessing involves running multiple processes simultaneously with separate memory spaces, while multithreading runs multiple threads within the same process, sharing memory. Multiprocessing offers better isolation and fault tolerance, fully utilizes CPU cores, but is more complex. Multithreading is simpler but prone to concurrency issues and may not fully utilize CPU cores. '"
      ]
     },
     "execution_count": 2,
     "metadata": {},
     "output_type": "execute_result"
    }
   ],
   "source": [
    "#Q2. What are the differences between multiprocessing and multithreading?\n",
    "\n",
    "\"\"\"Multiprocessing involves running multiple processes simultaneously with separate memory spaces, while multithreading runs multiple threads within the same process, sharing memory. Multiprocessing offers better isolation and fault tolerance, fully utilizes CPU cores, but is more complex. Multithreading is simpler but prone to concurrency issues and may not fully utilize CPU cores. \"\"\""
   ]
  },
  {
   "cell_type": "code",
   "execution_count": 3,
   "id": "d3e808b2-2975-4da4-a464-1fd0399b25d3",
   "metadata": {},
   "outputs": [
    {
     "name": "stdout",
     "output_type": "stream",
     "text": [
      "This is my main prod\n",
      "This is my multiprocessing program\n"
     ]
    }
   ],
   "source": [
    "#Q3. Write a python code to create a process using the multiprocessing module.\n",
    "\n",
    "import multiprocessing\n",
    "\n",
    "def test():\n",
    "    print(\"This is my multiprocessing program\")\n",
    "\n",
    "if __name__ == \"__main__\":\n",
    "    m = multiprocessing.Process(target=test)\n",
    "    print(\"This is my main prod\")\n",
    "    m.start()\n",
    "    m.join()\n",
    "    "
   ]
  },
  {
   "cell_type": "code",
   "execution_count": 4,
   "id": "d8d0826a-500e-417f-8f20-58b51504d95d",
   "metadata": {},
   "outputs": [
    {
     "data": {
      "text/plain": [
       "'A multiprocessing pool in Python, like `multiprocessing.Pool`, allows parallel execution of tasks across multiple processes, maximizing CPU usage and improving performance for CPU-bound tasks. '"
      ]
     },
     "execution_count": 4,
     "metadata": {},
     "output_type": "execute_result"
    }
   ],
   "source": [
    "#Q4. What is a multiprocessing pool in python? Why is it used?\n",
    "\n",
    "\"\"\"A multiprocessing pool in Python, like `multiprocessing.Pool`, allows parallel execution of tasks across multiple processes, maximizing CPU usage and improving performance for CPU-bound tasks. \"\"\""
   ]
  },
  {
   "cell_type": "code",
   "execution_count": 6,
   "id": "f739154e-d3c0-4969-80d6-56166a9fd263",
   "metadata": {},
   "outputs": [
    {
     "name": "stdout",
     "output_type": "stream",
     "text": [
      "[1, 4, 1089, 1936, 3025, 5929, 9025]\n"
     ]
    }
   ],
   "source": [
    "#Q5. How can we create a pool of worker processes in python using the multiprocessing module?\n",
    "\n",
    "def square(n):\n",
    "    return n**2\n",
    "if __name__ == '__main__':\n",
    "    with multiprocessing.Pool(processes=5) as pool :\n",
    "        out =pool.map(square , [1,2,33,44,55,77,95])\n",
    "        print(out)"
   ]
  },
  {
   "cell_type": "code",
   "execution_count": 8,
   "id": "a80790bb-b263-40d4-9d4a-180e381b6dc5",
   "metadata": {},
   "outputs": [
    {
     "name": "stdout",
     "output_type": "stream",
     "text": [
      "Process ID: 1624, Number: 1\n",
      "Process ID: 1627, Number: 2\n",
      "Process ID: 1634, Number: 3\n",
      "Process ID: 1637, Number: 4\n",
      "All processes finished.\n"
     ]
    }
   ],
   "source": [
    "#Q6. Write a python program to create 4 processes, each process should print a different number using the multiprocessing module in python.\n",
    "\n",
    "import multiprocessing\n",
    "\n",
    "def print_number(number):\n",
    "    print(f\"Process ID: {multiprocessing.current_process().pid}, Number: {number}\")\n",
    "\n",
    "if __name__ == \"__main__\":\n",
    "\n",
    "    numbers = [1, 2, 3, 4]\n",
    "\n",
    "\n",
    "    processes = []\n",
    "    for number in numbers:\n",
    "        process = multiprocessing.Process(target=print_number, args=(number,))\n",
    "        processes.append(process)\n",
    "        process.start()\n",
    "\n",
    "    for process in processes:\n",
    "        process.join()\n",
    "\n",
    "    print(\"All processes finished.\")"
   ]
  },
  {
   "cell_type": "code",
   "execution_count": null,
   "id": "69ea64f2-d2cc-4c83-801c-b0222990c8e9",
   "metadata": {},
   "outputs": [],
   "source": []
  }
 ],
 "metadata": {
  "kernelspec": {
   "display_name": "Python 3 (ipykernel)",
   "language": "python",
   "name": "python3"
  },
  "language_info": {
   "codemirror_mode": {
    "name": "ipython",
    "version": 3
   },
   "file_extension": ".py",
   "mimetype": "text/x-python",
   "name": "python",
   "nbconvert_exporter": "python",
   "pygments_lexer": "ipython3",
   "version": "3.10.8"
  }
 },
 "nbformat": 4,
 "nbformat_minor": 5
}
